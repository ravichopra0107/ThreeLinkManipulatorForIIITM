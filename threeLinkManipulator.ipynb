{
 "cells": [
  {
   "cell_type": "code",
   "execution_count": 1,
   "metadata": {
    "id": "r6qcMOPTtnoz"
   },
   "outputs": [],
   "source": [
    "import pandas as pd\n",
    "import math\n",
    "import random\n",
    "import matplotlib.pyplot as plt\n",
    "from sklearn.model_selection import train_test_split\n",
    "from keras import models\n",
    "from keras import layers\n",
    "from keras import regularizers\n",
    "import numpy as np"
   ]
  },
  {
   "cell_type": "code",
   "execution_count": 2,
   "metadata": {
    "id": "YoIGLO5btwCf"
   },
   "outputs": [],
   "source": [
    "l1 = l2 = l3 = 7"
   ]
  },
  {
   "cell_type": "code",
   "execution_count": 3,
   "metadata": {
    "id": "m6s6RXWWty6Z"
   },
   "outputs": [],
   "source": [
    "## Generating dataset for training\n",
    "\n",
    "def three_link_manipulator_dataset():\n",
    "    rows = []\n",
    "    for i in range(1, 100000):\n",
    "        theta1 = round(random.uniform(0, math.pi), 2)\n",
    "        theta2 = round(random.uniform(-math.pi, 0), 2)\n",
    "        theta3 = round(random.uniform(-math.pi/2, math.pi/2), 2)\n",
    "        \n",
    "        x = round(l1*math.cos(theta1)+l2*math.cos(theta1+theta2)+l3*math.cos(theta1+theta2+theta3), 2)\n",
    "        y = round(l1*math.sin(theta1)+l2*math.sin(theta1+theta2)+l3*math.sin(theta1+theta2+theta3), 2)\n",
    "        phi = round(math.degrees(theta1)+math.degrees(theta2)+math.degrees(theta3), 2)\n",
    "        \n",
    "        rows.append([theta1, theta2, theta3, x, y, phi])\n",
    "\n",
    "    df = pd.DataFrame(rows, columns=['theta1', 'theta2', 'theta3', 'x', 'y', 'phi'])\n",
    "    df.to_csv('three_link.csv', index=False)\n",
    "    \n",
    "three_link_manipulator_dataset()"
   ]
  },
  {
   "cell_type": "code",
   "execution_count": 4,
   "metadata": {
    "colab": {
     "base_uri": "https://localhost:8080/",
     "height": 206
    },
    "id": "fez0urRXvAUY",
    "outputId": "b00b1eee-674d-46ba-a170-580be05a6a63"
   },
   "outputs": [
    {
     "data": {
      "text/html": [
       "<div>\n",
       "<style scoped>\n",
       "    .dataframe tbody tr th:only-of-type {\n",
       "        vertical-align: middle;\n",
       "    }\n",
       "\n",
       "    .dataframe tbody tr th {\n",
       "        vertical-align: top;\n",
       "    }\n",
       "\n",
       "    .dataframe thead th {\n",
       "        text-align: right;\n",
       "    }\n",
       "</style>\n",
       "<table border=\"1\" class=\"dataframe\">\n",
       "  <thead>\n",
       "    <tr style=\"text-align: right;\">\n",
       "      <th></th>\n",
       "      <th>theta1</th>\n",
       "      <th>theta2</th>\n",
       "      <th>theta3</th>\n",
       "      <th>x</th>\n",
       "      <th>y</th>\n",
       "      <th>phi</th>\n",
       "    </tr>\n",
       "  </thead>\n",
       "  <tbody>\n",
       "    <tr>\n",
       "      <th>0</th>\n",
       "      <td>0.77</td>\n",
       "      <td>-1.09</td>\n",
       "      <td>-0.35</td>\n",
       "      <td>17.16</td>\n",
       "      <td>-1.68</td>\n",
       "      <td>-38.39</td>\n",
       "    </tr>\n",
       "    <tr>\n",
       "      <th>1</th>\n",
       "      <td>1.59</td>\n",
       "      <td>-2.68</td>\n",
       "      <td>-0.17</td>\n",
       "      <td>5.24</td>\n",
       "      <td>-5.87</td>\n",
       "      <td>-72.19</td>\n",
       "    </tr>\n",
       "    <tr>\n",
       "      <th>2</th>\n",
       "      <td>0.08</td>\n",
       "      <td>-0.06</td>\n",
       "      <td>-0.57</td>\n",
       "      <td>19.94</td>\n",
       "      <td>-2.96</td>\n",
       "      <td>-31.51</td>\n",
       "    </tr>\n",
       "    <tr>\n",
       "      <th>3</th>\n",
       "      <td>2.54</td>\n",
       "      <td>-3.03</td>\n",
       "      <td>-0.99</td>\n",
       "      <td>1.04</td>\n",
       "      <td>-6.30</td>\n",
       "      <td>-84.80</td>\n",
       "    </tr>\n",
       "    <tr>\n",
       "      <th>4</th>\n",
       "      <td>2.68</td>\n",
       "      <td>-2.65</td>\n",
       "      <td>0.95</td>\n",
       "      <td>4.63</td>\n",
       "      <td>9.14</td>\n",
       "      <td>56.15</td>\n",
       "    </tr>\n",
       "  </tbody>\n",
       "</table>\n",
       "</div>"
      ],
      "text/plain": [
       "   theta1  theta2  theta3      x     y    phi\n",
       "0    0.77   -1.09   -0.35  17.16 -1.68 -38.39\n",
       "1    1.59   -2.68   -0.17   5.24 -5.87 -72.19\n",
       "2    0.08   -0.06   -0.57  19.94 -2.96 -31.51\n",
       "3    2.54   -3.03   -0.99   1.04 -6.30 -84.80\n",
       "4    2.68   -2.65    0.95   4.63  9.14  56.15"
      ]
     },
     "execution_count": 4,
     "metadata": {},
     "output_type": "execute_result"
    }
   ],
   "source": [
    "three_link_data = pd.read_csv('three_link.csv')\n",
    "three_link_data.head()"
   ]
  },
  {
   "cell_type": "code",
   "execution_count": 5,
   "metadata": {
    "colab": {
     "base_uri": "https://localhost:8080/",
     "height": 265
    },
    "id": "2IrLG00Yv0wE",
    "outputId": "bf169e12-2e06-4ca4-f732-4b5975b0f11f"
   },
   "outputs": [
    {
     "data": {
      "image/png": "[encoded data removed]",
      "text/plain": [
       "<Figure size 432x288 with 1 Axes>"
      ]
     },
     "metadata": {
      "needs_background": "light"
     },
     "output_type": "display_data"
    }
   ],
   "source": [
    "plt.scatter(three_link_data['x'], three_link_data['y'])\n",
    "plt.show()"
   ]
  },
  {
   "cell_type": "code",
   "execution_count": 6,
   "metadata": {
    "id": "KO6P3XbEwAuN"
   },
   "outputs": [],
   "source": [
    "# Splitting training and testing dataset\n",
    "\n",
    "X = three_link_data[['x', 'y', 'phi']]\n",
    "y = three_link_data[['theta1', 'theta2', 'theta3']]\n",
    "train_X, test_X, train_y, test_y = train_test_split(X, y, test_size=0.1)"
   ]
  },
  {
   "cell_type": "code",
   "execution_count": 8,
   "metadata": {
    "colab": {
     "base_uri": "https://localhost:8080/"
    },
    "id": "2Wzk57fAwclO",
    "outputId": "726b0d74-9337-410b-b9f6-0c0a5608ef85"
   },
   "outputs": [
    {
     "name": "stdout",
     "output_type": "stream",
     "text": [
      "Model: \"sequential_1\"\n",
      "_________________________________________________________________\n",
      "Layer (type)                 Output Shape              Param #   \n",
      "=================================================================\n",
      "dense_4 (Dense)              (None, 3)                 12        \n",
      "_________________________________________________________________\n",
      "dense_5 (Dense)              (None, 100)               400       \n",
      "_________________________________________________________________\n",
      "dense_6 (Dense)              (None, 100)               10100     \n",
      "_________________________________________________________________\n",
      "dense_7 (Dense)              (None, 100)               10100     \n",
      "_________________________________________________________________\n",
      "dense_8 (Dense)              (None, 3)                 303       \n",
      "=================================================================\n",
      "Total params: 20,915\n",
      "Trainable params: 20,915\n",
      "Non-trainable params: 0\n",
      "_________________________________________________________________\n"
     ]
    }
   ],
   "source": [
    "# Defining model\n",
    "\n",
    "model = models.Sequential()\n",
    "model.add(layers.Dense(units=3, input_dim=3, kernel_initializer='uniform'))\n",
    "model.add(layers.Dense(units=100, kernel_initializer='uniform', activation='relu'))\n",
    "model.add(layers.Dense(units=100, kernel_initializer='uniform', activation='relu'))\n",
    "model.add(layers.Dense(units=100, kernel_initializer='uniform', activation='relu'))\n",
    "model.add(layers.Dense(units=3, kernel_initializer = 'uniform', activation='linear'))\n",
    "\n",
    "model.summary()"
   ]
  },
  {
   "cell_type": "code",
   "execution_count": 9,
   "metadata": {
    "id": "lb6iUoZ1wfig"
   },
   "outputs": [],
   "source": [
    "model.compile(optimizer='adam', loss='mean_squared_error', metrics=['accuracy'])"
   ]
  },
  {
   "cell_type": "code",
   "execution_count": 10,
   "metadata": {
    "colab": {
     "base_uri": "https://localhost:8080/"
    },
    "id": "9tppCEP7wf_S",
    "outputId": "9f65af73-2df3-4e46-f8bc-c8a787a09808"
   },
   "outputs": [
    {
     "name": "stdout",
     "output_type": "stream",
     "text": [
      "Epoch 1/30\n",
      "2532/2532 [==============================] - 3s 1000us/step - loss: 0.1460 - accuracy: 0.9448 - val_loss: 0.0388 - val_accuracy: 0.9570\n",
      "Epoch 2/30\n",
      "2532/2532 [==============================] - 3s 1ms/step - loss: 0.0258 - accuracy: 0.9716 - val_loss: 0.0231 - val_accuracy: 0.9799\n",
      "Epoch 3/30\n",
      "2532/2532 [==============================] - 3s 1ms/step - loss: 0.0222 - accuracy: 0.9751 - val_loss: 0.0400 - val_accuracy: 0.9788\n",
      "Epoch 4/30\n",
      "2532/2532 [==============================] - 3s 1ms/step - loss: 0.0201 - accuracy: 0.9776 - val_loss: 0.0237 - val_accuracy: 0.9726\n",
      "Epoch 5/30\n",
      "2532/2532 [==============================] - 3s 1ms/step - loss: 0.0186 - accuracy: 0.9802 - val_loss: 0.0251 - val_accuracy: 0.9780\n",
      "Epoch 6/30\n",
      "2532/2532 [==============================] - 3s 1ms/step - loss: 0.0179 - accuracy: 0.9805 - val_loss: 0.0151 - val_accuracy: 0.9816\n",
      "Epoch 7/30\n",
      "2532/2532 [==============================] - 3s 1ms/step - loss: 0.0170 - accuracy: 0.9819 - val_loss: 0.0216 - val_accuracy: 0.9759\n",
      "Epoch 8/30\n",
      "2532/2532 [==============================] - 3s 1ms/step - loss: 0.0162 - accuracy: 0.9817 - val_loss: 0.0154 - val_accuracy: 0.9792\n",
      "Epoch 9/30\n",
      "2532/2532 [==============================] - 3s 1ms/step - loss: 0.0156 - accuracy: 0.9822 - val_loss: 0.0120 - val_accuracy: 0.9858\n",
      "Epoch 10/30\n",
      "2532/2532 [==============================] - 3s 1ms/step - loss: 0.0152 - accuracy: 0.9828 - val_loss: 0.0241 - val_accuracy: 0.9842\n",
      "Epoch 11/30\n",
      "2532/2532 [==============================] - 3s 1ms/step - loss: 0.0149 - accuracy: 0.9834 - val_loss: 0.0198 - val_accuracy: 0.9870\n",
      "Epoch 12/30\n",
      "2532/2532 [==============================] - 3s 1ms/step - loss: 0.0136 - accuracy: 0.9836 - val_loss: 0.0130 - val_accuracy: 0.9881\n",
      "Epoch 13/30\n",
      "2532/2532 [==============================] - 3s 1ms/step - loss: 0.0142 - accuracy: 0.9838 - val_loss: 0.0102 - val_accuracy: 0.9917\n",
      "Epoch 14/30\n",
      "2532/2532 [==============================] - 3s 1ms/step - loss: 0.0136 - accuracy: 0.9839 - val_loss: 0.0104 - val_accuracy: 0.9868\n",
      "Epoch 15/30\n",
      "2532/2532 [==============================] - 3s 1ms/step - loss: 0.0133 - accuracy: 0.9843 - val_loss: 0.0087 - val_accuracy: 0.9888\n",
      "Epoch 16/30\n",
      "2532/2532 [==============================] - 3s 1ms/step - loss: 0.0138 - accuracy: 0.9838 - val_loss: 0.0074 - val_accuracy: 0.9886\n",
      "Epoch 17/30\n",
      "2532/2532 [==============================] - 3s 1ms/step - loss: 0.0132 - accuracy: 0.9854 - val_loss: 0.0139 - val_accuracy: 0.9830\n",
      "Epoch 18/30\n",
      "2532/2532 [==============================] - 3s 1ms/step - loss: 0.0130 - accuracy: 0.9846 - val_loss: 0.0141 - val_accuracy: 0.9873\n",
      "Epoch 19/30\n",
      "2532/2532 [==============================] - 2s 963us/step - loss: 0.0134 - accuracy: 0.9843 - val_loss: 0.0101 - val_accuracy: 0.9837\n",
      "Epoch 20/30\n",
      "2532/2532 [==============================] - 3s 1ms/step - loss: 0.0123 - accuracy: 0.9851 - val_loss: 0.0118 - val_accuracy: 0.9857\n",
      "Epoch 21/30\n",
      "2532/2532 [==============================] - 4s 1ms/step - loss: 0.0122 - accuracy: 0.9854 - val_loss: 0.0124 - val_accuracy: 0.9828\n",
      "Epoch 22/30\n",
      "2532/2532 [==============================] - 4s 2ms/step - loss: 0.0122 - accuracy: 0.9851 - val_loss: 0.0087 - val_accuracy: 0.9849\n",
      "Epoch 23/30\n",
      "2532/2532 [==============================] - 3s 1ms/step - loss: 0.0122 - accuracy: 0.9855 - val_loss: 0.0106 - val_accuracy: 0.9878\n",
      "Epoch 24/30\n",
      "2532/2532 [==============================] - 3s 1ms/step - loss: 0.0117 - accuracy: 0.9860 - val_loss: 0.0108 - val_accuracy: 0.9858\n",
      "Epoch 25/30\n",
      "2532/2532 [==============================] - 3s 1ms/step - loss: 0.0115 - accuracy: 0.9860 - val_loss: 0.0123 - val_accuracy: 0.9822\n",
      "Epoch 26/30\n",
      "2532/2532 [==============================] - 4s 1ms/step - loss: 0.0112 - accuracy: 0.9863 - val_loss: 0.0137 - val_accuracy: 0.9858\n",
      "Epoch 27/30\n",
      "2532/2532 [==============================] - 3s 1ms/step - loss: 0.0112 - accuracy: 0.9861 - val_loss: 0.0174 - val_accuracy: 0.9890\n",
      "Epoch 28/30\n",
      "2532/2532 [==============================] - 4s 1ms/step - loss: 0.0111 - accuracy: 0.9862 - val_loss: 0.0088 - val_accuracy: 0.9888\n",
      "Epoch 29/30\n",
      "2532/2532 [==============================] - 3s 1ms/step - loss: 0.0112 - accuracy: 0.9860 - val_loss: 0.0146 - val_accuracy: 0.9870\n",
      "Epoch 30/30\n",
      "2532/2532 [==============================] - 3s 1ms/step - loss: 0.0109 - accuracy: 0.9855 - val_loss: 0.0202 - val_accuracy: 0.9841\n"
     ]
    }
   ],
   "source": [
    "# Training model\n",
    "\n",
    "history = model.fit(train_X, train_y, epochs=30, validation_split=0.1, shuffle=True)"
   ]
  },
  {
   "cell_type": "code",
   "execution_count": 11,
   "metadata": {
    "colab": {
     "base_uri": "https://localhost:8080/",
     "height": 295
    },
    "id": "hvV1Rakyx0r4",
    "outputId": "e26bb11f-cbab-4c79-9c72-3cf019d967d8"
   },
   "outputs": [
    {
     "data": {
      "image/png": "[encoded data removed]",
      "text/plain": [
       "<Figure size 432x288 with 1 Axes>"
      ]
     },
     "metadata": {
      "needs_background": "light"
     },
     "output_type": "display_data"
    }
   ],
   "source": [
    "# Plotting model accuracy\n",
    "\n",
    "plt.plot(history.history['accuracy'])\n",
    "plt.plot(history.history['val_accuracy'])\n",
    "plt.title('model accuracy')\n",
    "plt.ylabel('accuracy')\n",
    "plt.xlabel('epoch')\n",
    "plt.legend(['train', 'val'], loc='upper left')\n",
    "plt.show()"
   ]
  },
  {
   "cell_type": "code",
   "execution_count": 12,
   "metadata": {
    "colab": {
     "base_uri": "https://localhost:8080/",
     "height": 295
    },
    "id": "DD6BtOJNx8VP",
    "outputId": "81eba401-71a8-487f-e9ac-16f39ed39997"
   },
   "outputs": [
    {
     "data": {
      "image/png": "[encoded data removed]",
      "text/plain": [
       "<Figure size 432x288 with 1 Axes>"
      ]
     },
     "metadata": {
      "needs_background": "light"
     },
     "output_type": "display_data"
    }
   ],
   "source": [
    "# Plotting model loss\n",
    "\n",
    "plt.plot(history.history['loss'])\n",
    "plt.plot(history.history['val_loss'])\n",
    "plt.title('model loss')\n",
    "plt.ylabel('loss')\n",
    "plt.xlabel('epoch')\n",
    "plt.legend(['train', 'val'], loc='upper left')\n",
    "plt.show()"
   ]
  },
  {
   "cell_type": "code",
   "execution_count": 13,
   "metadata": {
    "colab": {
     "base_uri": "https://localhost:8080/"
    },
    "id": "oaDKwajiyEOX",
    "outputId": "3655cafb-3168-427d-f508-547eb9c76df8"
   },
   "outputs": [
    {
     "name": "stdout",
     "output_type": "stream",
     "text": [
      "313/313 [==============================] - 0s 641us/step - loss: 0.0196 - accuracy: 0.9817\n",
      "\n",
      "Testing Loss =  0.01964942179620266\n",
      "Testing Accuracy =  0.9817000031471252\n"
     ]
    }
   ],
   "source": [
    "# Evaluating the model on test set\n",
    "\n",
    "test_loss, test_acc = model.evaluate(test_X, test_y)\n",
    "\n",
    "print('\\nTesting Loss = ', test_loss) \n",
    "print('Testing Accuracy = ', test_acc)"
   ]
  },
  {
   "cell_type": "code",
   "execution_count": 15,
   "metadata": {
    "id": "b6CD4M7Zyhvx"
   },
   "outputs": [],
   "source": [
    "def iiitm_dataset():\n",
    "    rows = []\n",
    "\n",
    "    # for I\n",
    "    arr = np.linspace(5, 7, 100)\n",
    "    for y in arr:\n",
    "        x = 6\n",
    "        theta = math.degrees(math.atan(y/x))\n",
    "        rows.append([x, y, theta])\n",
    "\n",
    "    # for I\n",
    "    arr = np.linspace(5, 7, 100)\n",
    "    for y in arr:\n",
    "        x = 7\n",
    "        theta = math.degrees(math.atan(y/x))\n",
    "        rows.append([x, y, theta])\n",
    "\n",
    "    # for I\n",
    "    arr = np.linspace(5, 7, 100)\n",
    "    for y in arr:\n",
    "        x = 8\n",
    "        theta = math.degrees(math.atan(y/x))\n",
    "        rows.append([x, y, theta])\n",
    "\n",
    "    # for T\n",
    "    arr = np.linspace(8.5, 10.5, 100)\n",
    "    for x in arr:\n",
    "        y = 7\n",
    "        theta = math.degrees(math.atan(y/x))\n",
    "        rows.append([x, y, theta])\n",
    "\n",
    "    arr = np.linspace(5, 7, 100)\n",
    "    for y in arr:\n",
    "        x = 9.5\n",
    "        theta = math.degrees(math.atan(y/x))\n",
    "        rows.append([x, y, theta])\n",
    "\n",
    "    # for M\n",
    "    arr = np.linspace(5, 7, 100)\n",
    "    for y in arr:\n",
    "        x = 11\n",
    "        theta = math.degrees(math.atan(y/x))\n",
    "        rows.append([x, y, theta])\n",
    "\n",
    "    arr = np.linspace(5, 7, 100)\n",
    "    for y in arr:\n",
    "        x = ((-y)+29)/2\n",
    "        theta = math.degrees(math.atan(y/x))\n",
    "        rows.append([x, y, theta])\n",
    "\n",
    "    arr = np.linspace(5, 7, 100)\n",
    "    for y in arr:\n",
    "        x = ((y)+19)/2\n",
    "        theta = math.degrees(math.atan(y/x))\n",
    "        rows.append([x, y, theta])\n",
    "\n",
    "    arr = np.linspace(5, 7, 100)\n",
    "    for y in arr:\n",
    "        x = 13\n",
    "        theta = math.degrees(math.atan(y/x))\n",
    "        rows.append([x, y, theta])\n",
    "\n",
    "    df = pd.DataFrame(rows, columns=['x', 'y', 'theta'])\n",
    "    df.to_csv('iiitm.csv', index=False)\n",
    "    \n",
    "iiitm_dataset()"
   ]
  },
  {
   "cell_type": "code",
   "execution_count": 20,
   "metadata": {
    "id": "EsoeeWwc13WL"
   },
   "outputs": [],
   "source": [
    "def three_link_forward_kinematics(theta1, theta2, theta3):\n",
    "    x = (np.cos(theta1)*l1)+(np.cos(theta1+theta2)*l2)+(np.cos(theta1+theta2+theta3)*l3)\n",
    "    y = (np.sin(theta1)*l1)+(np.sin(theta1+theta2)*l2)+(np.sin(theta1+theta2+theta3)*l3)\n",
    "\n",
    "    return x, y"
   ]
  },
  {
   "cell_type": "code",
   "execution_count": 21,
   "metadata": {
    "id": "yYRuloK73Y6c"
   },
   "outputs": [],
   "source": [
    "iiitm_data = pd.read_csv('iiitm.csv')\n",
    "iiitm_predictions = model.predict(iiitm_data.values)\n",
    "x_predictions, y_predictions = three_link_forward_kinematics(iiitm_predictions[:,0], iiitm_predictions[:,1], iiitm_predictions[:,2])"
   ]
  },
  {
   "cell_type": "code",
   "execution_count": 22,
   "metadata": {
    "colab": {
     "base_uri": "https://localhost:8080/",
     "height": 761
    },
    "id": "edjJg7aM4OIu",
    "outputId": "10193239-11d5-432a-c7ce-998358555f7b"
   },
   "outputs": [
    {
     "data": {
      "image/png": "[encoded data removed]",
      "text/plain": [
       "<Figure size 432x288 with 1 Axes>"
      ]
     },
     "metadata": {
      "needs_background": "light"
     },
     "output_type": "display_data"
    },
    {
     "data": {
      "image/png": "[encoded data removed]",
      "text/plain": [
       "<Figure size 432x288 with 1 Axes>"
      ]
     },
     "metadata": {
      "needs_background": "light"
     },
     "output_type": "display_data"
    }
   ],
   "source": [
    "# Original\n",
    "plt.plot(iiitm_data['x'], iiitm_data['y'], 'go')\n",
    "plt.show()\n",
    "\n",
    "# Predicted\n",
    "plt.plot(x_predictions, y_predictions, 'bo')\n",
    "plt.show()\n"
   ]
  },
  {
   "cell_type": "code",
   "execution_count": null,
   "metadata": {},
   "outputs": [],
   "source": []
  }
 ],
 "metadata": {
  "colab": {
   "collapsed_sections": [],
   "name": "Three Link Manipulator Neural Network.ipynb",
   "provenance": []
  },
  "kernelspec": {
   "display_name": "Python 3",
   "language": "python",
   "name": "python3"
  },
  "language_info": {
   "codemirror_mode": {
    "name": "ipython",
    "version": 3
   },
   "file_extension": ".py",
   "mimetype": "text/x-python",
   "name": "python",
   "nbconvert_exporter": "python",
   "pygments_lexer": "ipython3",
   "version": "3.8.3"
  }
 },
 "nbformat": 4,
 "nbformat_minor": 4
}
