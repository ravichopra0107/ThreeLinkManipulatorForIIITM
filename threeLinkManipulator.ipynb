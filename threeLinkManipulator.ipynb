{
 "cells": [
  {
   "cell_type": "code",
   "execution_count": 1,
   "metadata": {
    "id": "r6qcMOPTtnoz"
   },
   "outputs": [],
   "source": [
    "import pandas as pd\n",
    "import math\n",
    "import random\n",
    "import matplotlib.pyplot as plt\n",
    "from sklearn.model_selection import train_test_split\n",
    "from keras import models\n",
    "from keras import layers\n",
    "from keras import regularizers\n",
    "import numpy as np"
   ]
  },
  {
   "cell_type": "code",
   "execution_count": 2,
   "metadata": {
    "id": "YoIGLO5btwCf"
   },
   "outputs": [],
   "source": [
    "l1 = l2 = l3 = 7"
   ]
  },
  {
   "cell_type": "code",
   "execution_count": 3,
   "metadata": {
    "id": "m6s6RXWWty6Z"
   },
   "outputs": [],
   "source": [
    "## Generating dataset for training\n",
    "\n",
    "def three_link_manipulator_dataset():\n",
    "    rows = []\n",
    "    for i in range(1, 100000):\n",
    "        theta1 = round(random.uniform(0, math.pi), 2)\n",
    "        theta2 = round(random.uniform(-math.pi, 0), 2)\n",
    "        theta3 = round(random.uniform(-math.pi/2, math.pi/2), 2)\n",
    "        \n",
    "        x = round(l1*math.cos(theta1)+l2*math.cos(theta1+theta2)+l3*math.cos(theta1+theta2+theta3), 2)\n",
    "        y = round(l1*math.sin(theta1)+l2*math.sin(theta1+theta2)+l3*math.sin(theta1+theta2+theta3), 2)\n",
    "        phi = round(math.degrees(theta1)+math.degrees(theta2)+math.degrees(theta3), 2)\n",
    "        \n",
    "        rows.append([theta1, theta2, theta3, x, y, phi])\n",
    "\n",
    "    df = pd.DataFrame(rows, columns=['theta1', 'theta2', 'theta3', 'x', 'y', 'phi'])\n",
    "    df.to_csv('three_link.csv', index=False)\n",
    "    \n",
    "three_link_manipulator_dataset()"
   ]
  },
  {
   "cell_type": "code",
   "execution_count": 4,
   "metadata": {
    "colab": {
     "base_uri": "https://localhost:8080/",
     "height": 206
    },
    "id": "fez0urRXvAUY",
    "outputId": "b00b1eee-674d-46ba-a170-580be05a6a63"
   },
   "outputs": [
    {
     "data": {
      "text/html": [
       "<div>\n",
       "<style scoped>\n",
       "    .dataframe tbody tr th:only-of-type {\n",
       "        vertical-align: middle;\n",
       "    }\n",
       "\n",
       "    .dataframe tbody tr th {\n",
       "        vertical-align: top;\n",
       "    }\n",
       "\n",
       "    .dataframe thead th {\n",
       "        text-align: right;\n",
       "    }\n",
       "</style>\n",
       "<table border=\"1\" class=\"dataframe\">\n",
       "  <thead>\n",
       "    <tr style=\"text-align: right;\">\n",
       "      <th></th>\n",
       "      <th>theta1</th>\n",
       "      <th>theta2</th>\n",
       "      <th>theta3</th>\n",
       "      <th>x</th>\n",
       "      <th>y</th>\n",
       "      <th>phi</th>\n",
       "    </tr>\n",
       "  </thead>\n",
       "  <tbody>\n",
       "    <tr>\n",
       "      <th>0</th>\n",
       "      <td>1.65</td>\n",
       "      <td>-1.20</td>\n",
       "      <td>0.36</td>\n",
       "      <td>10.58</td>\n",
       "      <td>15.09</td>\n",
       "      <td>46.41</td>\n",
       "    </tr>\n",
       "    <tr>\n",
       "      <th>1</th>\n",
       "      <td>2.91</td>\n",
       "      <td>-2.80</td>\n",
       "      <td>-0.02</td>\n",
       "      <td>7.12</td>\n",
       "      <td>3.00</td>\n",
       "      <td>5.16</td>\n",
       "    </tr>\n",
       "    <tr>\n",
       "      <th>2</th>\n",
       "      <td>1.27</td>\n",
       "      <td>-1.72</td>\n",
       "      <td>1.45</td>\n",
       "      <td>12.16</td>\n",
       "      <td>9.53</td>\n",
       "      <td>57.30</td>\n",
       "    </tr>\n",
       "    <tr>\n",
       "      <th>3</th>\n",
       "      <td>1.85</td>\n",
       "      <td>-0.54</td>\n",
       "      <td>-0.00</td>\n",
       "      <td>1.68</td>\n",
       "      <td>20.26</td>\n",
       "      <td>75.06</td>\n",
       "    </tr>\n",
       "    <tr>\n",
       "      <th>4</th>\n",
       "      <td>1.45</td>\n",
       "      <td>-2.23</td>\n",
       "      <td>-1.29</td>\n",
       "      <td>2.47</td>\n",
       "      <td>-4.12</td>\n",
       "      <td>-118.60</td>\n",
       "    </tr>\n",
       "  </tbody>\n",
       "</table>\n",
       "</div>"
      ],
      "text/plain": [
       "   theta1  theta2  theta3      x      y     phi\n",
       "0    1.65   -1.20    0.36  10.58  15.09   46.41\n",
       "1    2.91   -2.80   -0.02   7.12   3.00    5.16\n",
       "2    1.27   -1.72    1.45  12.16   9.53   57.30\n",
       "3    1.85   -0.54   -0.00   1.68  20.26   75.06\n",
       "4    1.45   -2.23   -1.29   2.47  -4.12 -118.60"
      ]
     },
     "execution_count": 4,
     "metadata": {},
     "output_type": "execute_result"
    }
   ],
   "source": [
    "three_link_data = pd.read_csv('three_link.csv')\n",
    "three_link_data.head()"
   ]
  },
  {
   "cell_type": "code",
   "execution_count": 5,
   "metadata": {
    "colab": {
     "base_uri": "https://localhost:8080/",
     "height": 265
    },
    "id": "2IrLG00Yv0wE",
    "outputId": "bf169e12-2e06-4ca4-f732-4b5975b0f11f"
   },
   "outputs": [
    {
     "data": {
      "image/png": "[encoded data removed]",
      "text/plain": [
       "<Figure size 432x288 with 1 Axes>"
      ]
     },
     "metadata": {
      "needs_background": "light"
     },
     "output_type": "display_data"
    }
   ],
   "source": [
    "plt.scatter(three_link_data['x'], three_link_data['y'])\n",
    "plt.show()"
   ]
  },
  {
   "cell_type": "code",
   "execution_count": 6,
   "metadata": {
    "id": "KO6P3XbEwAuN"
   },
   "outputs": [],
   "source": [
    "# Splitting training and testing dataset\n",
    "\n",
    "X = three_link_data[['x', 'y', 'phi']]\n",
    "y = three_link_data[['theta1', 'theta2', 'theta3']]\n",
    "train_X, test_X, train_y, test_y = train_test_split(X, y, test_size=0.1)"
   ]
  },
  {
   "cell_type": "code",
   "execution_count": 7,
   "metadata": {
    "colab": {
     "base_uri": "https://localhost:8080/"
    },
    "id": "2Wzk57fAwclO",
    "outputId": "726b0d74-9337-410b-b9f6-0c0a5608ef85"
   },
   "outputs": [
    {
     "name": "stdout",
     "output_type": "stream",
     "text": [
      "Model: \"sequential\"\n",
      "_________________________________________________________________\n",
      "Layer (type)                 Output Shape              Param #   \n",
      "=================================================================\n",
      "dense (Dense)                (None, 3)                 12        \n",
      "_________________________________________________________________\n",
      "dense_1 (Dense)              (None, 100)               400       \n",
      "_________________________________________________________________\n",
      "dense_2 (Dense)              (None, 100)               10100     \n",
      "_________________________________________________________________\n",
      "dense_3 (Dense)              (None, 100)               10100     \n",
      "_________________________________________________________________\n",
      "dense_4 (Dense)              (None, 3)                 303       \n",
      "=================================================================\n",
      "Total params: 20,915\n",
      "Trainable params: 20,915\n",
      "Non-trainable params: 0\n",
      "_________________________________________________________________\n"
     ]
    }
   ],
   "source": [
    "# Defining model\n",
    "\n",
    "model = models.Sequential()\n",
    "model.add(layers.Dense(units=3, input_dim=3, kernel_initializer='uniform'))\n",
    "model.add(layers.Dense(units=100, kernel_initializer='uniform', activation='relu'))\n",
    "model.add(layers.Dense(units=100, kernel_initializer='uniform', activation='relu'))\n",
    "model.add(layers.Dense(units=100, kernel_initializer='uniform', activation='relu'))\n",
    "model.add(layers.Dense(units=3, kernel_initializer = 'uniform', activation='linear'))\n",
    "\n",
    "model.summary()"
   ]
  },
  {
   "cell_type": "code",
   "execution_count": 8,
   "metadata": {
    "id": "lb6iUoZ1wfig"
   },
   "outputs": [],
   "source": [
    "model.compile(optimizer='adam', loss='mean_squared_error', metrics=['accuracy'])"
   ]
  },
  {
   "cell_type": "code",
   "execution_count": 9,
   "metadata": {
    "colab": {
     "base_uri": "https://localhost:8080/"
    },
    "id": "9tppCEP7wf_S",
    "outputId": "9f65af73-2df3-4e46-f8bc-c8a787a09808"
   },
   "outputs": [
    {
     "name": "stdout",
     "output_type": "stream",
     "text": [
      "Epoch 1/30\n",
      "2532/2532 [==============================] - 3s 988us/step - loss: 0.1649 - accuracy: 0.9413 - val_loss: 0.0344 - val_accuracy: 0.9670\n",
      "Epoch 2/30\n",
      "2532/2532 [==============================] - 2s 909us/step - loss: 0.0303 - accuracy: 0.9674 - val_loss: 0.0231 - val_accuracy: 0.9741\n",
      "Epoch 3/30\n",
      "2532/2532 [==============================] - 3s 993us/step - loss: 0.0243 - accuracy: 0.9732 - val_loss: 0.0177 - val_accuracy: 0.9799\n",
      "Epoch 4/30\n",
      "2532/2532 [==============================] - 2s 978us/step - loss: 0.0204 - accuracy: 0.9770 - val_loss: 0.0239 - val_accuracy: 0.9799\n",
      "Epoch 5/30\n",
      "2532/2532 [==============================] - 2s 949us/step - loss: 0.0193 - accuracy: 0.9790 - val_loss: 0.0315 - val_accuracy: 0.9777\n",
      "Epoch 6/30\n",
      "2532/2532 [==============================] - 2s 967us/step - loss: 0.0178 - accuracy: 0.9798 - val_loss: 0.0149 - val_accuracy: 0.9884\n",
      "Epoch 7/30\n",
      "2532/2532 [==============================] - 2s 950us/step - loss: 0.0173 - accuracy: 0.9808 - val_loss: 0.0140 - val_accuracy: 0.9862\n",
      "Epoch 8/30\n",
      "2532/2532 [==============================] - 2s 969us/step - loss: 0.0164 - accuracy: 0.9824 - val_loss: 0.0457 - val_accuracy: 0.9783\n",
      "Epoch 9/30\n",
      "2532/2532 [==============================] - 2s 974us/step - loss: 0.0159 - accuracy: 0.9824 - val_loss: 0.0237 - val_accuracy: 0.9834\n",
      "Epoch 10/30\n",
      "2532/2532 [==============================] - 3s 1ms/step - loss: 0.0147 - accuracy: 0.9832 - val_loss: 0.0186 - val_accuracy: 0.9886\n",
      "Epoch 11/30\n",
      "2532/2532 [==============================] - 2s 976us/step - loss: 0.0139 - accuracy: 0.9842 - val_loss: 0.0100 - val_accuracy: 0.9884\n",
      "Epoch 12/30\n",
      "2532/2532 [==============================] - 2s 978us/step - loss: 0.0140 - accuracy: 0.9840 - val_loss: 0.0153 - val_accuracy: 0.9887\n",
      "Epoch 13/30\n",
      "2532/2532 [==============================] - 3s 1ms/step - loss: 0.0137 - accuracy: 0.9842 - val_loss: 0.0120 - val_accuracy: 0.9896\n",
      "Epoch 14/30\n",
      "2532/2532 [==============================] - 3s 1ms/step - loss: 0.0130 - accuracy: 0.9853 - val_loss: 0.0135 - val_accuracy: 0.9813\n",
      "Epoch 15/30\n",
      "2532/2532 [==============================] - 2s 959us/step - loss: 0.0127 - accuracy: 0.9858 - val_loss: 0.0155 - val_accuracy: 0.9890\n",
      "Epoch 16/30\n",
      "2532/2532 [==============================] - 2s 952us/step - loss: 0.0124 - accuracy: 0.9855 - val_loss: 0.0093 - val_accuracy: 0.9911\n",
      "Epoch 17/30\n",
      "2532/2532 [==============================] - 2s 954us/step - loss: 0.0128 - accuracy: 0.9844 - val_loss: 0.0119 - val_accuracy: 0.9854\n",
      "Epoch 18/30\n",
      "2532/2532 [==============================] - 2s 951us/step - loss: 0.0118 - accuracy: 0.9855 - val_loss: 0.0117 - val_accuracy: 0.9892\n",
      "Epoch 19/30\n",
      "2532/2532 [==============================] - 2s 975us/step - loss: 0.0117 - accuracy: 0.9860 - val_loss: 0.0180 - val_accuracy: 0.9826\n",
      "Epoch 20/30\n",
      "2532/2532 [==============================] - 3s 998us/step - loss: 0.0119 - accuracy: 0.9859 - val_loss: 0.0157 - val_accuracy: 0.9799\n",
      "Epoch 21/30\n",
      "2532/2532 [==============================] - 3s 1ms/step - loss: 0.0121 - accuracy: 0.9861 - val_loss: 0.0099 - val_accuracy: 0.9924\n",
      "Epoch 22/30\n",
      "2532/2532 [==============================] - 3s 1ms/step - loss: 0.0113 - accuracy: 0.9862 - val_loss: 0.0101 - val_accuracy: 0.9861\n",
      "Epoch 23/30\n",
      "2532/2532 [==============================] - 3s 1ms/step - loss: 0.0111 - accuracy: 0.9861 - val_loss: 0.0259 - val_accuracy: 0.9846\n",
      "Epoch 24/30\n",
      "2532/2532 [==============================] - 2s 987us/step - loss: 0.0113 - accuracy: 0.9868 - val_loss: 0.0125 - val_accuracy: 0.9891\n",
      "Epoch 25/30\n",
      "2532/2532 [==============================] - 2s 957us/step - loss: 0.0115 - accuracy: 0.9860 - val_loss: 0.0143 - val_accuracy: 0.9852\n",
      "Epoch 26/30\n",
      "2532/2532 [==============================] - 2s 944us/step - loss: 0.0109 - accuracy: 0.9871 - val_loss: 0.0077 - val_accuracy: 0.9858\n",
      "Epoch 27/30\n",
      "2532/2532 [==============================] - 2s 952us/step - loss: 0.0113 - accuracy: 0.9861 - val_loss: 0.0078 - val_accuracy: 0.9911\n",
      "Epoch 28/30\n",
      "2532/2532 [==============================] - 2s 964us/step - loss: 0.0105 - accuracy: 0.9865 - val_loss: 0.0112 - val_accuracy: 0.9844\n",
      "Epoch 29/30\n",
      "2532/2532 [==============================] - 2s 980us/step - loss: 0.0101 - accuracy: 0.9867 - val_loss: 0.0102 - val_accuracy: 0.9822\n",
      "Epoch 30/30\n",
      "2532/2532 [==============================] - 2s 948us/step - loss: 0.0105 - accuracy: 0.9866 - val_loss: 0.0124 - val_accuracy: 0.9908\n"
     ]
    }
   ],
   "source": [
    "# Training model\n",
    "\n",
    "history = model.fit(train_X, train_y, epochs=30, validation_split=0.1, shuffle=True)"
   ]
  },
  {
   "cell_type": "code",
   "execution_count": 10,
   "metadata": {
    "colab": {
     "base_uri": "https://localhost:8080/",
     "height": 295
    },
    "id": "hvV1Rakyx0r4",
    "outputId": "e26bb11f-cbab-4c79-9c72-3cf019d967d8"
   },
   "outputs": [
    {
     "data": {
      "image/png": "[encoded data removed]",
      "text/plain": [
       "<Figure size 432x288 with 1 Axes>"
      ]
     },
     "metadata": {
      "needs_background": "light"
     },
     "output_type": "display_data"
    }
   ],
   "source": [
    "# Plotting model accuracy\n",
    "\n",
    "plt.plot(history.history['accuracy'])\n",
    "plt.plot(history.history['val_accuracy'])\n",
    "plt.title('model accuracy')\n",
    "plt.ylabel('accuracy')\n",
    "plt.xlabel('epoch')\n",
    "plt.legend(['train', 'val'], loc='upper left')\n",
    "plt.show()"
   ]
  },
  {
   "cell_type": "code",
   "execution_count": 11,
   "metadata": {
    "colab": {
     "base_uri": "https://localhost:8080/",
     "height": 295
    },
    "id": "DD6BtOJNx8VP",
    "outputId": "81eba401-71a8-487f-e9ac-16f39ed39997"
   },
   "outputs": [
    {
     "data": {
      "image/png": "[encoded data removed]",
      "text/plain": [
       "<Figure size 432x288 with 1 Axes>"
      ]
     },
     "metadata": {
      "needs_background": "light"
     },
     "output_type": "display_data"
    }
   ],
   "source": [
    "# Plotting model loss\n",
    "\n",
    "plt.plot(history.history['loss'])\n",
    "plt.plot(history.history['val_loss'])\n",
    "plt.title('model loss')\n",
    "plt.ylabel('loss')\n",
    "plt.xlabel('epoch')\n",
    "plt.legend(['train', 'val'], loc='upper left')\n",
    "plt.show()"
   ]
  },
  {
   "cell_type": "code",
   "execution_count": 12,
   "metadata": {
    "colab": {
     "base_uri": "https://localhost:8080/"
    },
    "id": "oaDKwajiyEOX",
    "outputId": "3655cafb-3168-427d-f508-547eb9c76df8"
   },
   "outputs": [
    {
     "name": "stdout",
     "output_type": "stream",
     "text": [
      "313/313 [==============================] - 0s 588us/step - loss: 0.0141 - accuracy: 0.9868\n",
      "\n",
      "Testing Loss =  0.014064368791878223\n",
      "Testing Accuracy =  0.9868000149726868\n"
     ]
    }
   ],
   "source": [
    "# Evaluating the model on test set\n",
    "\n",
    "test_loss, test_acc = model.evaluate(test_X, test_y)\n",
    "\n",
    "print('\\nTesting Loss = ', test_loss) \n",
    "print('Testing Accuracy = ', test_acc)"
   ]
  },
  {
   "cell_type": "code",
   "execution_count": 13,
   "metadata": {
    "id": "b6CD4M7Zyhvx"
   },
   "outputs": [],
   "source": [
    "def iiitm_dataset():\n",
    "    rows = []\n",
    "\n",
    "    # for I\n",
    "    arr = np.linspace(5, 7, 100)\n",
    "    for y in arr:\n",
    "        x = 6\n",
    "        theta = math.degrees(math.atan(y/x))\n",
    "        rows.append([x, y, theta])\n",
    "\n",
    "    # for I\n",
    "    arr = np.linspace(5, 7, 100)\n",
    "    for y in arr:\n",
    "        x = 7\n",
    "        theta = math.degrees(math.atan(y/x))\n",
    "        rows.append([x, y, theta])\n",
    "\n",
    "    # for I\n",
    "    arr = np.linspace(5, 7, 100)\n",
    "    for y in arr:\n",
    "        x = 8\n",
    "        theta = math.degrees(math.atan(y/x))\n",
    "        rows.append([x, y, theta])\n",
    "\n",
    "    # for T\n",
    "    arr = np.linspace(9, 10, 100)\n",
    "    for x in arr:\n",
    "        y = 7\n",
    "        theta = math.degrees(math.atan(y/x))\n",
    "        rows.append([x, y, theta])\n",
    "\n",
    "    arr = np.linspace(5, 7, 100)\n",
    "    for y in arr:\n",
    "        x = 9.5\n",
    "        theta = math.degrees(math.atan(y/x))\n",
    "        rows.append([x, y, theta])\n",
    "\n",
    "    # for M\n",
    "    arr = np.linspace(5, 7, 100)\n",
    "    for y in arr:\n",
    "        x = 11\n",
    "        theta = math.degrees(math.atan(y/x))\n",
    "        rows.append([x, y, theta])\n",
    "\n",
    "    arr = np.linspace(5, 7, 100)\n",
    "    for y in arr:\n",
    "        x = ((-y)+29)/2\n",
    "        theta = math.degrees(math.atan(y/x))\n",
    "        rows.append([x, y, theta])\n",
    "\n",
    "    arr = np.linspace(5, 7, 100)\n",
    "    for y in arr:\n",
    "        x = ((y)+19)/2\n",
    "        theta = math.degrees(math.atan(y/x))\n",
    "        rows.append([x, y, theta])\n",
    "\n",
    "    arr = np.linspace(5, 7, 100)\n",
    "    for y in arr:\n",
    "        x = 13\n",
    "        theta = math.degrees(math.atan(y/x))\n",
    "        rows.append([x, y, theta])\n",
    "\n",
    "    df = pd.DataFrame(rows, columns=['x', 'y', 'theta'])\n",
    "    df.to_csv('iiitm.csv', index=False)\n",
    "    \n",
    "iiitm_dataset()"
   ]
  },
  {
   "cell_type": "code",
   "execution_count": 14,
   "metadata": {
    "id": "EsoeeWwc13WL"
   },
   "outputs": [],
   "source": [
    "def three_link_forward_kinematics(theta1, theta2, theta3):\n",
    "    x = (np.cos(theta1)*l1)+(np.cos(theta1+theta2)*l2)+(np.cos(theta1+theta2+theta3)*l3)\n",
    "    y = (np.sin(theta1)*l1)+(np.sin(theta1+theta2)*l2)+(np.sin(theta1+theta2+theta3)*l3)\n",
    "\n",
    "    return x, y"
   ]
  },
  {
   "cell_type": "code",
   "execution_count": 15,
   "metadata": {
    "id": "yYRuloK73Y6c"
   },
   "outputs": [],
   "source": [
    "iiitm_data = pd.read_csv('iiitm.csv')\n",
    "iiitm_predictions = model.predict(iiitm_data.values)\n",
    "x_predictions, y_predictions = three_link_forward_kinematics(iiitm_predictions[:,0], iiitm_predictions[:,1], iiitm_predictions[:,2])"
   ]
  },
  {
   "cell_type": "code",
   "execution_count": 16,
   "metadata": {
    "colab": {
     "base_uri": "https://localhost:8080/",
     "height": 761
    },
    "id": "edjJg7aM4OIu",
    "outputId": "10193239-11d5-432a-c7ce-998358555f7b"
   },
   "outputs": [
    {
     "data": {
      "image/png": "[encoded data removed]",
      "text/plain": [
       "<Figure size 432x288 with 1 Axes>"
      ]
     },
     "metadata": {
      "needs_background": "light"
     },
     "output_type": "display_data"
    }
   ],
   "source": [
    "plt.plot(iiitm_data['x'], iiitm_data['y'], 'go')\n",
    "plt.plot(x_predictions, y_predictions, 'bo')\n",
    "plt.show()\n"
   ]
  },
  {
   "cell_type": "code",
   "execution_count": null,
   "metadata": {},
   "outputs": [],
   "source": []
  }
 ],
 "metadata": {
  "colab": {
   "collapsed_sections": [],
   "name": "Three Link Manipulator Neural Network.ipynb",
   "provenance": []
  },
  "kernelspec": {
   "display_name": "Python 3",
   "language": "python",
   "name": "python3"
  },
  "language_info": {
   "codemirror_mode": {
    "name": "ipython",
    "version": 3
   },
   "file_extension": ".py",
   "mimetype": "text/x-python",
   "name": "python",
   "nbconvert_exporter": "python",
   "pygments_lexer": "ipython3",
   "version": "3.8.3"
  }
 },
 "nbformat": 4,
 "nbformat_minor": 4
}
